{
 "cells": [
  {
   "cell_type": "code",
   "execution_count": 2,
   "metadata": {},
   "outputs": [],
   "source": [
    "import matplotlib\n",
    "import matplotlib.pyplot as plt\n",
    "import numpy as np"
   ]
  },
  {
   "cell_type": "code",
   "execution_count": 37,
   "metadata": {},
   "outputs": [
    {
     "data": {
      "image/png": "[encoded data removed]",
      "text/plain": [
       "<Figure size 432x288 with 1 Axes>"
      ]
     },
     "metadata": {
      "needs_background": "light"
     },
     "output_type": "display_data"
    }
   ],
   "source": [
    "full_plot_line = np.arange(0, 10)\n",
    "\n",
    "road0_y = np.array([3] * len(full_plot_line))\n",
    "road0_x = np.array([3]  * len(full_plot_line))\n",
    "road1_y = np.array([6] * len(full_plot_line))\n",
    "road1_x = np.array([6]  * len(full_plot_line))\n",
    "\n",
    "fig, ax = plt.subplots()\n",
    "\n",
    "plt.axis([0, 9, 0, 9])\n",
    "\n",
    "ax.plot(full_plot_line, road0_y, color='gray', linewidth=4)\n",
    "ax.plot(road0_x, full_plot_line, color='gray', linewidth=4)\n",
    "\n",
    "ax.plot(full_plot_line, road1_y, color='gray', linewidth=4)\n",
    "ax.plot(road1_x, full_plot_line, color='gray', linewidth=4)\n",
    "\n",
    "ax.set(xlabel='x [m]', ylabel='y [m]',\n",
    "       title='Streets')\n",
    "\n",
    "\n",
    "fig.savefig(\"streets.png\")\n",
    "plt.show()"
   ]
  },
  {
   "cell_type": "markdown",
   "metadata": {},
   "source": [
    "# 2. DU Relocation\n",
    "\n",
    "Let $x_{jt}$ is binary variable (0 or 1) that represent state of DU connection for *j*th JP at  *t*th perion\n",
    "\n",
    "$X(t) =  \\{x_{1t}, x_{2t}, \\dots \\}$ - denotes state of DU connection for JPs at state t\n",
    "\n",
    "The relocation DUs is described as a transition between the states using $X(t)$ "
   ]
  },
  {
   "cell_type": "code",
   "execution_count": null,
   "metadata": {},
   "outputs": [],
   "source": []
  }
 ],
 "metadata": {
  "kernelspec": {
   "display_name": "Python 3",
   "language": "python",
   "name": "python3"
  },
  "language_info": {
   "codemirror_mode": {
    "name": "ipython",
    "version": 3
   },
   "file_extension": ".py",
   "mimetype": "text/x-python",
   "name": "python",
   "nbconvert_exporter": "python",
   "pygments_lexer": "ipython3",
   "version": "3.7.4"
  }
 },
 "nbformat": 4,
 "nbformat_minor": 4
}
