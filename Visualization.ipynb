{
 "cells": [
  {
   "cell_type": "code",
   "execution_count": 53,
   "metadata": {},
   "outputs": [],
   "source": [
    "import matplotlib\n",
    "import matplotlib.pyplot as plt\n",
    "import numpy as np\n",
    "import random"
   ]
  },
  {
   "cell_type": "code",
   "execution_count": 56,
   "metadata": {},
   "outputs": [
    {
     "data": {
      "image/png": "[encoded data removed]",
      "text/plain": [
       "<Figure size 432x288 with 1 Axes>"
      ]
     },
     "metadata": {
      "needs_background": "light"
     },
     "output_type": "display_data"
    }
   ],
   "source": [
    "full_plot_line = np.arange(0, 10)\n",
    "\n",
    "road0_y = np.array([3] * len(full_plot_line))\n",
    "road0_x = np.array([3]  * len(full_plot_line))\n",
    "road1_y = np.array([6] * len(full_plot_line))\n",
    "road1_x = np.array([6]  * len(full_plot_line))\n",
    "\n",
    "fig, ax = plt.subplots()\n",
    "\n",
    "plt.axis([0, 9, 0, 9])\n",
    "\n",
    "def cross_road_generator(count, grid_size = 9):\n",
    "    place = grid_size / (count + 1)\n",
    "    cross_points = []\n",
    "    \n",
    "    for r in range(count):\n",
    "        ax.plot(full_plot_line, np.array([place + place * r] * len(full_plot_line)), color='gray', linewidth=4)\n",
    "        ax.plot(np.array([place + place * r] * len(full_plot_line)), full_plot_line, color='gray', linewidth=4)\n",
    "        cross_points.append(place + place * r)\n",
    "\n",
    "    return [[p1, p2] for p1 in cross_points for p2 in cross_points]\n",
    "\n",
    "def gen_ru(pairs):\n",
    "    ru = []\n",
    "    for p in pairs:\n",
    "        if (random.random() > 0.5):\n",
    "            ax.scatter(p[0] - 0.25, p[1] - 0.25, s=np.pi*10, c = \"green\")\n",
    "            ru.append([p[0] - 0.25, p[1] - 0.25])\n",
    "        if (random.random() > 0.5):\n",
    "            ax.scatter(p[0] + 0.25, p[1] + 0.25, s=np.pi*10, c = \"green\")\n",
    "            ru.append([p[0] + 0.25, p[1] + 0.25])\n",
    "        if (random.random() > 0.5):\n",
    "            ax.scatter(p[0] - 0.25, p[1] + 0.25, s=np.pi*10, c = \"green\")\n",
    "            ru.append([p[0] - 0.25, p[1] + 0.25])\n",
    "        if (random.random() > 0.5):\n",
    "            ax.scatter(p[0] + 0.25, p[1] - 0.25, s=np.pi*10, c = \"green\")\n",
    "            ru.append([p[0] + 0.25, p[1] - 0.25])\n",
    "       \n",
    "    \n",
    "    return ru\n",
    "\n",
    "\n",
    "pairs = cross_road_generator(5)\n",
    "gen_ru(pairs)\n",
    "\n",
    "\n",
    "ax.set(xlabel='x [m]', ylabel='y [m]',\n",
    "       title='Streets')\n",
    "\n",
    "\n",
    "fig.savefig(\"streets.png\")\n",
    "plt.show()"
   ]
  },
  {
   "cell_type": "markdown",
   "metadata": {},
   "source": [
    "# 2. DU Relocation\n",
    "\n",
    "Let $x_{jt}$ is binary variable (0 or 1) that represent state of DU connection for *j*th JP at  *t*th perion\n",
    "\n",
    "$X(t) =  \\{x_{1t}, x_{2t}, \\dots \\}$ - denotes state of DU connection for JPs at state t\n",
    "\n",
    "The relocation DUs is described as a transition between the states using $X(t)$ "
   ]
  },
  {
   "cell_type": "code",
   "execution_count": null,
   "metadata": {},
   "outputs": [],
   "source": []
  },
  {
   "cell_type": "code",
   "execution_count": null,
   "metadata": {},
   "outputs": [],
   "source": []
  }
 ],
 "metadata": {
  "kernelspec": {
   "display_name": "Python 3",
   "language": "python",
   "name": "python3"
  },
  "language_info": {
   "codemirror_mode": {
    "name": "ipython",
    "version": 3
   },
   "file_extension": ".py",
   "mimetype": "text/x-python",
   "name": "python",
   "nbconvert_exporter": "python",
   "pygments_lexer": "ipython3",
   "version": "3.7.4"
  }
 },
 "nbformat": 4,
 "nbformat_minor": 4
}
